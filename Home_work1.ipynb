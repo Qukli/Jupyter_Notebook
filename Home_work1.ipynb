{
 "cells": [
  {
   "cell_type": "code",
   "execution_count": 1,
   "id": "ea82ead7",
   "metadata": {},
   "outputs": [],
   "source": [
    "from typing import List, Dict"
   ]
  },
  {
   "cell_type": "markdown",
   "id": "e27ca94a",
   "metadata": {},
   "source": [
    "## Домашнее задание 2\n",
    "На складе лежат разные фрукты в разном количестве.\n",
    "Нужно написать функцию, которая на вход принимает любое\n",
    "количество названий фруктов и их количество, а возвращает\n",
    "общее количество фруктов на складе"
   ]
  },
  {
   "cell_type": "code",
   "execution_count": 2,
   "id": "fb96a597",
   "metadata": {},
   "outputs": [
    {
     "data": {
      "text/plain": [
       "16"
      ]
     },
     "execution_count": 2,
     "metadata": {},
     "output_type": "execute_result"
    }
   ],
   "source": [
    "def numbers_fruits (**args: Dict[str, int]) -> int:\n",
    "    summa = sum(args.values())\n",
    "    return summa\n",
    "numbers_fruits(apples=5, oranges=8, bananas=3)\n",
    "    "
   ]
  },
  {
   "cell_type": "markdown",
   "id": "3194ac8c",
   "metadata": {},
   "source": [
    "## Домашнее задание 3\n",
    "Дан список с затратами на рекламу. Но в данных есть ошибки,\n",
    "некоторые затраты имеют отрицательную величину. Удалите\n",
    "такие значения из списка и посчитайте суммарные затраты\n",
    "[100, 125, -90, 345, 655, -1, 0, 200]\n",
    "Используйте list comprehensions"
   ]
  },
  {
   "cell_type": "code",
   "execution_count": 3,
   "id": "68be5dab",
   "metadata": {},
   "outputs": [
    {
     "data": {
      "text/plain": [
       "1425"
      ]
     },
     "execution_count": 3,
     "metadata": {},
     "output_type": "execute_result"
    }
   ],
   "source": [
    "expenses = [100, 125, -90, 345, 655, -1, 0, 200]\n",
    "corect_costs = [el for el in expenses if el >= 0 ]\n",
    "sum_corect_costs = sum(corect_costs) \n",
    "\n",
    "sum_corect_costs"
   ]
  },
  {
   "cell_type": "markdown",
   "id": "50f2e5d1",
   "metadata": {},
   "source": [
    "## Домашнее задание 4\n",
    "Даны два списка."
   ]
  },
  {
   "cell_type": "markdown",
   "id": "be5bed8d",
   "metadata": {},
   "source": [
    "Дата покупки\n",
    "['2021-09-14', '2021-12-15', '2021-09-08', '2021-12-05', '2021-10-09', '2021-09-30', '2021-12-22', '2021-11-29', '2021-12-24', '2021-11-26', '2021-10-27', '2021-12-18', '2021-11-09', '2021-11-23', '2021-09-27',\n",
    "'2021-10-02', '2021-12-27', '2021-09-20', '2021-12-13', '2021-11-01', '2021-11-09', '2021-12-06', '2021-12-08', '2021-10-09', '2021-10-31', '2021-09-30', '2021-11-09', '2021-12-13', '2021-10-26', '2021-12-09']\n",
    "\n",
    "Суммы покупок по датам\n",
    "[1270, 8413, 9028, 3703, 5739, 4095, 295, 4944, 5723, 3701, 4471, 651, 7037, 4274, 6275, 4988, 6930, 2971, 6592, 2004, 2822, 519, 3406, 2732, 5015, 2008, 316, 6333, 5700, 2887]"
   ]
  },
  {
   "cell_type": "markdown",
   "id": "9fb350e3",
   "metadata": {},
   "source": [
    "### 4.1 Найдите, какая выручка у компании в ноябре\n",
    "Используйте list comprehensions"
   ]
  },
  {
   "cell_type": "code",
   "execution_count": 4,
   "id": "72da6577",
   "metadata": {},
   "outputs": [],
   "source": [
    "date_of_purchase = ['2021-09-14', '2021-12-15', '2021-09-08', '2021-12-05', '2021-10-09', '2021-09-30', '2021-12-22', '2021-11-29', '2021-12-24', '2021-11-26', '2021-10-27', '2021-12-18', '2021-11-09', '2021-11-23', '2021-09-27', '2021-10-02', '2021-12-27', '2021-09-20', '2021-12-13', '2021-11-01', '2021-11-09', '2021-12-06', '2021-12-08', '2021-10-09', '2021-10-31', '2021-09-30', '2021-11-09', '2021-12-13', '2021-10-26', '2021-12-09']\n",
    "amount_by_date = [1270, 8413, 9028, 3703, 5739, 4095, 295, 4944, 5723, 3701, 4471, 651, 7037, 4274, 6275, 4988, 6930, 2971, 6592, 2004, 2822, 519, 3406, 2732, 5015, 2008, 316, 6333, 5700, 2887]"
   ]
  },
  {
   "cell_type": "code",
   "execution_count": 5,
   "id": "ecb4f388",
   "metadata": {},
   "outputs": [
    {
     "data": {
      "text/plain": [
       "25098"
      ]
     },
     "execution_count": 5,
     "metadata": {},
     "output_type": "execute_result"
    }
   ],
   "source": [
    "november_purchases = [amount for date, amount in zip(date_of_purchase, amount_by_date) if date.startswith('2021-11')]\n",
    "summa_amount = sum(november_purchases)\n",
    "summa_amount\n"
   ]
  },
  {
   "cell_type": "markdown",
   "id": "192ebc43",
   "metadata": {},
   "source": [
    "## 4.2 Найдите выручку компании в зависимости от месяца\n",
    "Для этого напишите функцию, которая на вход принимает список с датами и список с выручкой, а на выходе словарь, где\n",
    "ключи - это месяцы, а значения - это выручка.\n",
    "Используйте аннотирование типов."
   ]
  },
  {
   "cell_type": "code",
   "execution_count": 6,
   "id": "90c2cd31",
   "metadata": {},
   "outputs": [
    {
     "data": {
      "text/plain": [
       "{'2021-09-14': 1270,\n",
       " '2021-12-15': 8413,\n",
       " '2021-09-08': 9028,\n",
       " '2021-12-05': 3703,\n",
       " '2021-10-09': 2732,\n",
       " '2021-09-30': 2008,\n",
       " '2021-12-22': 295,\n",
       " '2021-11-29': 4944,\n",
       " '2021-12-24': 5723,\n",
       " '2021-11-26': 3701,\n",
       " '2021-10-27': 4471,\n",
       " '2021-12-18': 651,\n",
       " '2021-11-09': 316,\n",
       " '2021-11-23': 4274,\n",
       " '2021-09-27': 6275,\n",
       " '2021-10-02': 4988,\n",
       " '2021-12-27': 6930,\n",
       " '2021-09-20': 2971,\n",
       " '2021-12-13': 6333,\n",
       " '2021-11-01': 2004,\n",
       " '2021-12-06': 519,\n",
       " '2021-12-08': 3406,\n",
       " '2021-10-31': 5015,\n",
       " '2021-10-26': 5700,\n",
       " '2021-12-09': 2887}"
      ]
     },
     "execution_count": 6,
     "metadata": {},
     "output_type": "execute_result"
    }
   ],
   "source": [
    "def date_amount(date: str, amount: int) -> dict:\n",
    "    a = dict(zip(date, amount))\n",
    "    return a\n",
    "date_amount(date_of_purchase, amount_by_date)"
   ]
  },
  {
   "cell_type": "code",
   "execution_count": 7,
   "id": "74d121ca",
   "metadata": {},
   "outputs": [],
   "source": [
    "def get_revenue_by_month(dates: List[str], amounts: List[int]) -> Dict[str, int]:\n",
    "    \n",
    "# Инициализация пустого словаря   \n",
    "    revenue_by_month = {}\n",
    "    \n",
    "# Перебор пар даты и суммы\n",
    "    for d, a in zip(dates, amounts):\n",
    "        \n",
    "        \n",
    "# Извлечение месяца из даты\n",
    "        month = d.split('-')[1]\n",
    "    \n",
    " # Проверка, существует ли уже ключ с таким месяцем \n",
    "        if month in revenue_by_month:\n",
    "        \n",
    "        \n",
    "# Если ключ существует, прибавляем текущую сумму к существующей сумме\n",
    "          revenue_by_month[month] += a\n",
    "        else:\n",
    "        \n",
    "# Если ключа нет, создаем новый ключ со значением текущей суммы\n",
    "          revenue_by_month[month] = a\n",
    "\n",
    "    return revenue_by_month"
   ]
  },
  {
   "cell_type": "code",
   "execution_count": 8,
   "id": "ef761723",
   "metadata": {},
   "outputs": [
    {
     "data": {
      "text/plain": [
       "{'09': 25647, '12': 45452, '10': 28645, '11': 25098}"
      ]
     },
     "execution_count": 8,
     "metadata": {},
     "output_type": "execute_result"
    }
   ],
   "source": [
    "get_revenue_by_month(date_of_purchase, amount_by_date)"
   ]
  }
 ],
 "metadata": {
  "kernelspec": {
   "display_name": "Python 3 (ipykernel)",
   "language": "python",
   "name": "python3"
  },
  "language_info": {
   "codemirror_mode": {
    "name": "ipython",
    "version": 3
   },
   "file_extension": ".py",
   "mimetype": "text/x-python",
   "name": "python",
   "nbconvert_exporter": "python",
   "pygments_lexer": "ipython3",
   "version": "3.10.9"
  }
 },
 "nbformat": 4,
 "nbformat_minor": 5
}
